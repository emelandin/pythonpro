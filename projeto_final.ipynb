{
  "nbformat": 4,
  "nbformat_minor": 0,
  "metadata": {
    "colab": {
      "name": "Untitled5.ipynb",
      "provenance": [],
      "authorship_tag": "ABX9TyOdsYK1IS2X0KHul9i1vMp4",
      "include_colab_link": true
    },
    "kernelspec": {
      "name": "python3",
      "display_name": "Python 3"
    }
  },
  "cells": [
    {
      "cell_type": "markdown",
      "metadata": {
        "id": "view-in-github",
        "colab_type": "text"
      },
      "source": [
        "<a href=\"https://colab.research.google.com/github/emelandin/pythonpro/blob/main/projeto_final.ipynb\" target=\"_parent\"><img src=\"https://colab.research.google.com/assets/colab-badge.svg\" alt=\"Open In Colab\"/></a>"
      ]
    },
    {
      "cell_type": "code",
      "metadata": {
        "id": "z-0FGYHTozV8"
      },
      "source": [
        "import pandas as pd"
      ],
      "execution_count": 1,
      "outputs": []
    },
    {
      "cell_type": "code",
      "metadata": {
        "id": "y3nu3d_Wo03_"
      },
      "source": [
        "dfs = pd.read_html ('https://br.tradingview.com/markets/stocks-brazilia/market-movers-active/', decimal=\".\",thousands=\",\")\n",
        "df = dfs[0]"
      ],
      "execution_count": 41,
      "outputs": []
    },
    {
      "cell_type": "code",
      "metadata": {
        "id": "S-D1I6_Co7VZ"
      },
      "source": [
        "# renomeia as colunas\n",
        "df.rename (columns={'Unnamed: 0':'Nome'}, inplace=True )\n",
        "df.rename (columns={'Unnamed: 1':'Preço'}, inplace=True )\n",
        "df.rename (columns={'Unnamed: 2':'Var%'}, inplace=True )\n",
        "df.rename (columns={'Unnamed: 3':'Oscilação'}, inplace=True )\n",
        "df.rename (columns={'Unnamed: 4':'Classificação'}, inplace=True )\n",
        "df.rename (columns={'Unnamed: 5':'Volume'}, inplace=True )\n",
        "df.rename (columns={'Unnamed: 6':'Mercado'}, inplace=True )\n",
        "df.rename (columns={'Unnamed: 7':'Lucro'}, inplace=True )\n",
        "df.rename (columns={'Unnamed: 8':'EPS'}, inplace=True )\n",
        "df.rename (columns={'Unnamed: 9':'Funcionarios'}, inplace=True )\n",
        "df.rename (columns={'Unnamed: 10':'Setor'}, inplace=True )\n",
        "\n",
        "#remove as colunas que nao quero utilizar\n",
        "df.drop('Mercado', axis=1, inplace=True)\n",
        "df.drop('Lucro', axis=1, inplace=True)\n",
        "df.drop('EPS', axis=1, inplace=True)\n",
        "df.drop('Funcionarios', axis=1, inplace=True)\n",
        "df['Oscilação'] = df['Oscilação'].astype(float)\n",
        "\n",
        "## Execute a conversão de dados usando ferramentas de processamento de string\n",
        "df['Volume'] = list(map(lambda x: x[:-1], df['Volume'].values))\n",
        "df['Var%'] = list(map(lambda x: x[:-1], df['Var%'].values))\n",
        "\n",
        "##Converter dados em formato numérico\n",
        "df['Volume'] = [float(x) for x in df['Volume'].values]\n",
        "df['Var%'] = [float(x) for x in df['Var%'].values]\n",
        "\n",
        "df['Volume'] = df['Volume']*1000000\n"
      ],
      "execution_count": 42,
      "outputs": []
    },
    {
      "cell_type": "code",
      "metadata": {
        "colab": {
          "base_uri": "https://localhost:8080/"
        },
        "id": "6ibZ-W3KpDxD",
        "outputId": "43067723-30d9-4ecc-f02e-d31a69fba2a2"
      },
      "source": [
        "print (df.head(10))"
      ],
      "execution_count": 43,
      "outputs": [
        {
          "output_type": "stream",
          "text": [
            "                       Nome  Preço  ...       Volume                     Setor\n",
            "0  C  COGN3  COGNA ON ON NM   4.69  ...  295233000.0       Serviços Comerciais\n",
            "1        CIEL3  CIELO ON NM   3.55  ...  224252000.0       Serviços Comerciais\n",
            "2           OIBR3  OI ON N1   2.12  ...  173987000.0              Comunicações\n",
            "3  IRBR3  IRBBRASIL REON NM   6.63  ...  156906000.0                Financeiro\n",
            "4    VVAR3  VIAVAREJO ON NM  17.75  ...   82340000.0        Comercio de Varejo\n",
            "5  MGLU3  MAGAZ LUIZA ON NM  23.38  ...   67110000.0        Comercio de Varejo\n",
            "6     T  TOTS3  TOTVS ON NM  26.75  ...   62397000.0    Serviços de Tecnologia\n",
            "7         VALE3  VALE ON NM  78.00  ...   48594000.0  Minerais não Energéticos\n",
            "8       ABEV3  AMBEV S/A ON  13.98  ...   41881000.0   Consumo de Não Duráveis\n",
            "9    PETR3  PETROBRAS ON N2  25.55  ...   33607000.0      Minerais Energéticos\n",
            "\n",
            "[10 rows x 7 columns]\n"
          ],
          "name": "stdout"
        }
      ]
    },
    {
      "cell_type": "code",
      "metadata": {
        "id": "oWs5aCMx04u6"
      },
      "source": [
        ""
      ],
      "execution_count": null,
      "outputs": []
    },
    {
      "cell_type": "code",
      "metadata": {
        "id": "gzJ5haUgqgxZ"
      },
      "source": [
        "# trocando M por 000/////naofoi exec\n",
        "def fix_numbers(coluna):\n",
        "    \n",
        "    new_column = list()\n",
        "    for item in coluna:\n",
        "        left_numbers = item.split('.')[0]\n",
        "\n",
        "        data = item.split('.')[-1]\n",
        "        right_numbers = data.split('M')[0].ljust(3,'0')\n",
        "        right_numbers = right_numbers + '000'\n",
        "        print(left_numbers + right_numbers)\n",
        "        \n",
        "    return new_column\n"
      ],
      "execution_count": 12,
      "outputs": []
    },
    {
      "cell_type": "code",
      "metadata": {
        "id": "eNAoZOBSuk0i"
      },
      "source": [
        "df['Volume_fixed'] = fix_numbers(df['Volume'])\n",
        "# df['Volume'] = fix_numbers(df['Volume'])"
      ],
      "execution_count": null,
      "outputs": []
    },
    {
      "cell_type": "code",
      "metadata": {
        "colab": {
          "base_uri": "https://localhost:8080/"
        },
        "id": "I9T-Bu2kwoBy",
        "outputId": "241a770b-53c0-46a4-d5b7-52c3b5629508"
      },
      "source": [
        "df['Volume']*1000000"
      ],
      "execution_count": 21,
      "outputs": [
        {
          "output_type": "execute_result",
          "data": {
            "text/plain": [
              "0     295233000.0\n",
              "1     224252000.0\n",
              "2     173987000.0\n",
              "3     156906000.0\n",
              "4      82340000.0\n",
              "         ...     \n",
              "95      1770000.0\n",
              "96      1710000.0\n",
              "97      1663000.0\n",
              "98      1517000.0\n",
              "99      1492000.0\n",
              "Name: Volume, Length: 100, dtype: float64"
            ]
          },
          "metadata": {
            "tags": []
          },
          "execution_count": 21
        }
      ]
    },
    {
      "cell_type": "code",
      "metadata": {
        "colab": {
          "base_uri": "https://localhost:8080/"
        },
        "id": "CIC73t6HvGgq",
        "outputId": "c67fbf37-dfed-4439-d240-9894792aeb1b"
      },
      "source": [
        "print (df.info())"
      ],
      "execution_count": 19,
      "outputs": [
        {
          "output_type": "stream",
          "text": [
            "<class 'pandas.core.frame.DataFrame'>\n",
            "RangeIndex: 100 entries, 0 to 99\n",
            "Data columns (total 7 columns):\n",
            " #   Column         Non-Null Count  Dtype  \n",
            "---  ------         --------------  -----  \n",
            " 0   Nome           100 non-null    object \n",
            " 1   Preço          100 non-null    float64\n",
            " 2   Var%           100 non-null    float64\n",
            " 3   Oscilação      100 non-null    float64\n",
            " 4   Classificação  100 non-null    object \n",
            " 5   Volume         100 non-null    float64\n",
            " 6   Setor          100 non-null    object \n",
            "dtypes: float64(4), object(3)\n",
            "memory usage: 5.6+ KB\n",
            "None\n"
          ],
          "name": "stdout"
        }
      ]
    },
    {
      "cell_type": "code",
      "metadata": {
        "id": "wsopr6m206lg"
      },
      "source": [
        "# nao foi \n",
        "import re\n",
        "def fix_names(coluna):\n",
        "    \n",
        "    my_results = list()\n",
        "    \n",
        "    for col in coluna:\n",
        "        try:\n",
        "            #name = re.findall('[A-Z]{4}\\d{1,2}',col)[0]\n",
        "            name = re.findall('[A-Z]\\d[A-Z]{2}\\d',col)[0]\n",
        "        except:\n",
        "            name = 'NA'\n",
        "        \n",
        "        my_results.append(name)\n",
        "        \n",
        "    return my_results\n"
      ],
      "execution_count": 39,
      "outputs": []
    },
    {
      "cell_type": "code",
      "metadata": {
        "id": "JfY9ZEJ25fn4"
      },
      "source": [
        ""
      ],
      "execution_count": null,
      "outputs": []
    },
    {
      "cell_type": "code",
      "metadata": {
        "colab": {
          "base_uri": "https://localhost:8080/"
        },
        "id": "LApIdyQL1xsf",
        "outputId": "c06a23c4-9d5e-4d19-aae8-fcf90213181d"
      },
      "source": [
        "pd.Series(fix_names(df['Nome'])).value_counts()"
      ],
      "execution_count": 34,
      "outputs": [
        {
          "output_type": "execute_result",
          "data": {
            "text/plain": [
              "BBSE3    1\n",
              "ALSO3    1\n",
              "ETER3    1\n",
              "JBSS3    1\n",
              "BBDC3    1\n",
              "        ..\n",
              "STBP3    1\n",
              "TECN3    1\n",
              "QUAL3    1\n",
              "ENBR3    1\n",
              "COGN3    1\n",
              "Length: 100, dtype: int64"
            ]
          },
          "metadata": {
            "tags": []
          },
          "execution_count": 34
        }
      ]
    },
    {
      "cell_type": "code",
      "metadata": {
        "colab": {
          "base_uri": "https://localhost:8080/",
          "height": 419
        },
        "id": "pMr4MF4L2CGf",
        "outputId": "2192a085-d1dd-451d-ffde-e23c6b4d32be"
      },
      "source": [
        "df"
      ],
      "execution_count": 40,
      "outputs": [
        {
          "output_type": "execute_result",
          "data": {
            "text/html": [
              "<div>\n",
              "<style scoped>\n",
              "    .dataframe tbody tr th:only-of-type {\n",
              "        vertical-align: middle;\n",
              "    }\n",
              "\n",
              "    .dataframe tbody tr th {\n",
              "        vertical-align: top;\n",
              "    }\n",
              "\n",
              "    .dataframe thead th {\n",
              "        text-align: right;\n",
              "    }\n",
              "</style>\n",
              "<table border=\"1\" class=\"dataframe\">\n",
              "  <thead>\n",
              "    <tr style=\"text-align: right;\">\n",
              "      <th></th>\n",
              "      <th>Nome</th>\n",
              "      <th>Preço</th>\n",
              "      <th>Var%</th>\n",
              "      <th>Oscilação</th>\n",
              "      <th>Classificação</th>\n",
              "      <th>Volume</th>\n",
              "      <th>Setor</th>\n",
              "    </tr>\n",
              "  </thead>\n",
              "  <tbody>\n",
              "    <tr>\n",
              "      <th>0</th>\n",
              "      <td>C  COGN3  COGNA ON ON NM</td>\n",
              "      <td>4.69</td>\n",
              "      <td>-4.09</td>\n",
              "      <td>-0.20</td>\n",
              "      <td>Venda</td>\n",
              "      <td>295233000.0</td>\n",
              "      <td>Serviços Comerciais</td>\n",
              "    </tr>\n",
              "    <tr>\n",
              "      <th>1</th>\n",
              "      <td>CIEL3  CIELO ON NM</td>\n",
              "      <td>3.55</td>\n",
              "      <td>-5.59</td>\n",
              "      <td>-0.21</td>\n",
              "      <td>Venda</td>\n",
              "      <td>224252000.0</td>\n",
              "      <td>Serviços Comerciais</td>\n",
              "    </tr>\n",
              "    <tr>\n",
              "      <th>2</th>\n",
              "      <td>OIBR3  OI ON N1</td>\n",
              "      <td>2.12</td>\n",
              "      <td>3.41</td>\n",
              "      <td>0.07</td>\n",
              "      <td>Compra</td>\n",
              "      <td>173987000.0</td>\n",
              "      <td>Comunicações</td>\n",
              "    </tr>\n",
              "    <tr>\n",
              "      <th>3</th>\n",
              "      <td>IRBR3  IRBBRASIL REON NM</td>\n",
              "      <td>6.63</td>\n",
              "      <td>-2.79</td>\n",
              "      <td>-0.19</td>\n",
              "      <td>Venda</td>\n",
              "      <td>156906000.0</td>\n",
              "      <td>Financeiro</td>\n",
              "    </tr>\n",
              "    <tr>\n",
              "      <th>4</th>\n",
              "      <td>VVAR3  VIAVAREJO ON NM</td>\n",
              "      <td>17.75</td>\n",
              "      <td>-4.00</td>\n",
              "      <td>-0.74</td>\n",
              "      <td>Venda</td>\n",
              "      <td>82340000.0</td>\n",
              "      <td>Comercio de Varejo</td>\n",
              "    </tr>\n",
              "    <tr>\n",
              "      <th>...</th>\n",
              "      <td>...</td>\n",
              "      <td>...</td>\n",
              "      <td>...</td>\n",
              "      <td>...</td>\n",
              "      <td>...</td>\n",
              "      <td>...</td>\n",
              "      <td>...</td>\n",
              "    </tr>\n",
              "    <tr>\n",
              "      <th>95</th>\n",
              "      <td>C  CNTO3  CENTAURO ON NM</td>\n",
              "      <td>26.56</td>\n",
              "      <td>-3.94</td>\n",
              "      <td>-1.09</td>\n",
              "      <td>Venda</td>\n",
              "      <td>1770000.0</td>\n",
              "      <td>Comercio de Varejo</td>\n",
              "    </tr>\n",
              "    <tr>\n",
              "      <th>96</th>\n",
              "      <td>T  TUPY3  TUPY ON NM</td>\n",
              "      <td>21.45</td>\n",
              "      <td>-3.16</td>\n",
              "      <td>-0.70</td>\n",
              "      <td>Compra</td>\n",
              "      <td>1710000.0</td>\n",
              "      <td>Produção Artesanal</td>\n",
              "    </tr>\n",
              "    <tr>\n",
              "      <th>97</th>\n",
              "      <td>H  HBOR3  HELBOR ON NM</td>\n",
              "      <td>10.96</td>\n",
              "      <td>-3.94</td>\n",
              "      <td>-0.45</td>\n",
              "      <td>Compra</td>\n",
              "      <td>1663000.0</td>\n",
              "      <td>Financeiro</td>\n",
              "    </tr>\n",
              "    <tr>\n",
              "      <th>98</th>\n",
              "      <td>P  PMAM3  PARANAPANEMAON NM</td>\n",
              "      <td>10.57</td>\n",
              "      <td>-8.72</td>\n",
              "      <td>-1.01</td>\n",
              "      <td>Venda</td>\n",
              "      <td>1517000.0</td>\n",
              "      <td>Minerais não Energéticos</td>\n",
              "    </tr>\n",
              "    <tr>\n",
              "      <th>99</th>\n",
              "      <td>M  MILS3  MILLS ON NM</td>\n",
              "      <td>6.43</td>\n",
              "      <td>-1.68</td>\n",
              "      <td>-0.11</td>\n",
              "      <td>Compra</td>\n",
              "      <td>1492000.0</td>\n",
              "      <td>Financeiro</td>\n",
              "    </tr>\n",
              "  </tbody>\n",
              "</table>\n",
              "<p>100 rows × 7 columns</p>\n",
              "</div>"
            ],
            "text/plain": [
              "                           Nome  Preço  ...       Volume                     Setor\n",
              "0      C  COGN3  COGNA ON ON NM   4.69  ...  295233000.0       Serviços Comerciais\n",
              "1            CIEL3  CIELO ON NM   3.55  ...  224252000.0       Serviços Comerciais\n",
              "2               OIBR3  OI ON N1   2.12  ...  173987000.0              Comunicações\n",
              "3      IRBR3  IRBBRASIL REON NM   6.63  ...  156906000.0                Financeiro\n",
              "4        VVAR3  VIAVAREJO ON NM  17.75  ...   82340000.0        Comercio de Varejo\n",
              "..                          ...    ...  ...          ...                       ...\n",
              "95     C  CNTO3  CENTAURO ON NM  26.56  ...    1770000.0        Comercio de Varejo\n",
              "96         T  TUPY3  TUPY ON NM  21.45  ...    1710000.0        Produção Artesanal\n",
              "97       H  HBOR3  HELBOR ON NM  10.96  ...    1663000.0                Financeiro\n",
              "98  P  PMAM3  PARANAPANEMAON NM  10.57  ...    1517000.0  Minerais não Energéticos\n",
              "99        M  MILS3  MILLS ON NM   6.43  ...    1492000.0                Financeiro\n",
              "\n",
              "[100 rows x 7 columns]"
            ]
          },
          "metadata": {
            "tags": []
          },
          "execution_count": 40
        }
      ]
    },
    {
      "cell_type": "code",
      "metadata": {
        "colab": {
          "base_uri": "https://localhost:8080/"
        },
        "id": "OfJt5tTF5iQ-",
        "outputId": "1c4d8eaf-41c6-42e6-c70c-356394bd9ed0"
      },
      "source": [
        "def fix_names(coluna):\n",
        "    \n",
        "    my_results = list()\n",
        "    \n",
        "    for col in coluna:\n",
        "        try:\n",
        "            name = re.findall('[A-Z]{4}\\d{1,2}',col)[0]\n",
        "        except:\n",
        "            \n",
        "            try:\n",
        "                name = re.findall('[A-Z]\\d[A-Z]{2}\\d',col)[0]\n",
        "            except:\n",
        "                name = 'NA'\n",
        "        \n",
        "        my_results.append(name)\n",
        "        \n",
        "    return my_results\n",
        "\n",
        "fix_names(df['Nome'])"
      ],
      "execution_count": 47,
      "outputs": [
        {
          "output_type": "execute_result",
          "data": {
            "text/plain": [
              "['COGN3',\n",
              " 'CIEL3',\n",
              " 'OIBR3',\n",
              " 'IRBR3',\n",
              " 'VVAR3',\n",
              " 'MGLU3',\n",
              " 'TOTS3',\n",
              " 'VALE3',\n",
              " 'ABEV3',\n",
              " 'PETR3',\n",
              " 'JBSS3',\n",
              " 'B3SA3',\n",
              " 'MEAL3',\n",
              " 'BBAS3',\n",
              " 'PSSA3',\n",
              " 'EMBR3',\n",
              " 'CVCB3',\n",
              " 'HAPV3',\n",
              " 'CCRO3',\n",
              " 'BRML3',\n",
              " 'BBSE3',\n",
              " 'BRDT3',\n",
              " 'DMMO3',\n",
              " 'RAIL3',\n",
              " 'CYRE3',\n",
              " 'UGPA3',\n",
              " 'CSNA3',\n",
              " 'LREN3',\n",
              " 'EQTL3',\n",
              " 'SUZB3',\n",
              " 'WEGE3',\n",
              " 'JHSF3',\n",
              " 'ELET3',\n",
              " 'RADL3',\n",
              " 'CRFB3',\n",
              " 'BBDC3',\n",
              " 'TIMS3',\n",
              " 'BRFS3',\n",
              " 'MULT3',\n",
              " 'YDUQ3',\n",
              " 'NTCO3',\n",
              " 'BEEF3',\n",
              " 'BTOW3',\n",
              " 'RENT3',\n",
              " 'MRFG3',\n",
              " 'GNDI3',\n",
              " 'STBP3',\n",
              " 'LINX3',\n",
              " 'SBSP3',\n",
              " 'LJQQ3',\n",
              " 'CPFE3',\n",
              " 'SOMA3',\n",
              " 'MOVI3',\n",
              " 'GFSA3',\n",
              " 'ECOR3',\n",
              " 'HYPE3',\n",
              " 'VIVT3',\n",
              " 'LCAM3',\n",
              " 'MRVE3',\n",
              " 'PRIO3',\n",
              " 'AMAR3',\n",
              " 'ETER3',\n",
              " 'EZTC3',\n",
              " 'BKBR3',\n",
              " 'PTBL3',\n",
              " 'TECN3',\n",
              " 'ENBR3',\n",
              " 'LIGT3',\n",
              " 'EGIE3',\n",
              " 'PCAR3',\n",
              " 'CSAN3',\n",
              " 'IGTA3',\n",
              " 'NEOE3',\n",
              " 'SMLS3',\n",
              " 'FLRY3',\n",
              " 'CSMG3',\n",
              " 'HGTX3',\n",
              " 'TRIS3',\n",
              " 'DTEX3',\n",
              " 'POSI3',\n",
              " 'QUAL3',\n",
              " 'ENJU3',\n",
              " 'LAME3',\n",
              " 'SLCE3',\n",
              " 'CAML3',\n",
              " 'PETZ3',\n",
              " 'ENAT3',\n",
              " 'ALSO3',\n",
              " 'ODPV3',\n",
              " 'BRPR3',\n",
              " 'SMTO3',\n",
              " 'GRND3',\n",
              " 'EVEN3',\n",
              " 'GMAT3',\n",
              " 'TEND3',\n",
              " 'CNTO3',\n",
              " 'TUPY3',\n",
              " 'HBOR3',\n",
              " 'PMAM3',\n",
              " 'MILS3']"
            ]
          },
          "metadata": {
            "tags": []
          },
          "execution_count": 47
        }
      ]
    },
    {
      "cell_type": "code",
      "metadata": {
        "id": "idi9oIcE5sQe"
      },
      "source": [
        "df ['Ticker'] = fix_names(df['Nome'])"
      ],
      "execution_count": 49,
      "outputs": []
    },
    {
      "cell_type": "code",
      "metadata": {
        "colab": {
          "base_uri": "https://localhost:8080/"
        },
        "id": "ic5yhsKq6Vg2",
        "outputId": "7e6343d7-0012-48e5-a1db-9d36b916d8af"
      },
      "source": [
        "df.info()"
      ],
      "execution_count": 56,
      "outputs": [
        {
          "output_type": "stream",
          "text": [
            "<class 'pandas.core.frame.DataFrame'>\n",
            "RangeIndex: 100 entries, 0 to 99\n",
            "Data columns (total 8 columns):\n",
            " #   Column         Non-Null Count  Dtype  \n",
            "---  ------         --------------  -----  \n",
            " 0   Nome           100 non-null    object \n",
            " 1   Preço          100 non-null    float64\n",
            " 2   Var%           100 non-null    float64\n",
            " 3   Oscilação      100 non-null    float64\n",
            " 4   Classificação  100 non-null    object \n",
            " 5   Volume         100 non-null    float64\n",
            " 6   Setor          100 non-null    object \n",
            " 7   Ticker         100 non-null    object \n",
            "dtypes: float64(4), object(4)\n",
            "memory usage: 6.4+ KB\n"
          ],
          "name": "stdout"
        }
      ]
    }
  ]
}