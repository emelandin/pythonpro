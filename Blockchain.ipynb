{
  "nbformat": 4,
  "nbformat_minor": 0,
  "metadata": {
    "colab": {
      "name": "Blockchain.ipynb",
      "provenance": [],
      "include_colab_link": true
    },
    "kernelspec": {
      "name": "python3",
      "display_name": "Python 3"
    },
    "language_info": {
      "name": "python"
    }
  },
  "cells": [
    {
      "cell_type": "markdown",
      "metadata": {
        "id": "view-in-github",
        "colab_type": "text"
      },
      "source": [
        "<a href=\"https://colab.research.google.com/github/emelandin/pythonpro/blob/main/Blockchain.ipynb\" target=\"_parent\"><img src=\"https://colab.research.google.com/assets/colab-badge.svg\" alt=\"Open In Colab\"/></a>"
      ]
    },
    {
      "cell_type": "code",
      "metadata": {
        "id": "RitgJBMXh3Nd"
      },
      "source": [
        "import hashlib\n",
        "import time"
      ],
      "execution_count": null,
      "outputs": []
    },
    {
      "cell_type": "code",
      "metadata": {
        "colab": {
          "base_uri": "https://localhost:8080/"
        },
        "id": "onZeX_H-h9Pz",
        "outputId": "0c9e8b8c-ab7b-4256-fbe2-894dad75655a"
      },
      "source": [
        "blocks = [] #armazena todos os hashs\n",
        "complete_blocks=[] #armazena todos os blocos \n",
        "\n",
        "#algoritmo SHA-256\n",
        "def encrypt_string(hash_string):\n",
        "    sha_signature = \\\n",
        "        hashlib.sha256(hash_string.encode()).hexdigest()\n",
        "    return sha_signature\n",
        "\n",
        "#verifica validade do hash\n",
        "def valid_proof(hash):\n",
        "    difficulty=\"000\" #nºde \"0\"(zeros iniciando o hash) a0fa42\n",
        "    if hash.startswith(difficulty):\n",
        "        return True\n",
        "    return False\n",
        "\n",
        "def proofOfWork(data, timestamp, prev_hash, index):\n",
        "    _hash = \"\"\n",
        "    nonce = 0\n",
        "    while not valid_proof(_hash):\n",
        "        block_property = data + str(timestamp) + str(prev_hash) + str(index) + str(nonce)\n",
        "        _hash = encrypt_string(block_property)\n",
        "        nonce += 1\n",
        "    #Estrutura do bloco considerando suas propriedades //formatado para exibição\n",
        "    datas= \"Data: \"+ data +\" , \"+ \"Nonce: \"+str(nonce)+\" , \"+\"Hash anterior: \"+ str(prev_hash) +\" , \"+\"Hash: \"+_hash +\" , \"+\"Timestamp: \"+str(timestamp)\n",
        " \n",
        "    complete_blocks.append(datas)\n",
        "    blocks.append(_hash)\n",
        "    \n",
        "def getLastHash():\n",
        "    return blocks[len(blocks) - 1]\n",
        "\n",
        "def addNewBlock(content):\n",
        "    _index = len(blocks)\n",
        "    timestamp = time.time()\n",
        "    prev_hash = getLastHash()\n",
        "    proofOfWork(content, timestamp, prev_hash, _index)\n",
        "\n",
        "#retorna todos os blocos e suas propiedades\n",
        "def getAllBlocks():\n",
        "    for i in range(0, len(blocks)):\n",
        "        print(complete_blocks[i])\n",
        "\n",
        "#inicializa o bloco inicial da cadeia\n",
        "def initBlock():\n",
        "    data = \"GENESIS 'Marco 0' \"\n",
        "    timestamp = time.time()\n",
        "    prev_hash = 0\n",
        "    index = 0\n",
        "    proofOfWork(data, timestamp, prev_hash, index)   \n",
        "    \n",
        "#inicia a cadeia\n",
        "initBlock()\n",
        "#Solicito a criação e inserção de 2 novos blocos\n",
        "addNewBlock(\"Novo Bloco 15/07\")\n",
        "addNewBlock(\"Blockchain S2 \")\n",
        "#Retorno toda a cadeia de blocos\n",
        "getAllBlocks()"
      ],
      "execution_count": null,
      "outputs": [
        {
          "output_type": "stream",
          "name": "stdout",
          "text": [
            "Data: GENESIS 'Marco 0'  , Nonce: 1911 , Hash anterior: 0 , Hash: 000ae8aad612f484602dc3e6834f20c5b79605b59cf345cad35a180e983364e5 , Timestamp: 1636407978.0057962\n",
            "Data: Novo Bloco 15/07 , Nonce: 12637 , Hash anterior: 000ae8aad612f484602dc3e6834f20c5b79605b59cf345cad35a180e983364e5 , Hash: 0002fca9ef4f86f520194352d5ef18c4a49d129fa591faa0f0e834dd1b544ae6 , Timestamp: 1636407978.0109\n",
            "Data: Blockchain S2  , Nonce: 3743 , Hash anterior: 0002fca9ef4f86f520194352d5ef18c4a49d129fa591faa0f0e834dd1b544ae6 , Hash: 00025f6b963bc2d64ec994e6701770f4a762016e90d3574142a9dee9087cb687 , Timestamp: 1636407978.047679\n"
          ]
        }
      ]
    },
    {
      "cell_type": "code",
      "metadata": {
        "id": "WMr--bEUiW7A"
      },
      "source": [
        "#Artigo  no Medium LINK: https://medium.com/@felipemfp/entendendo-como-funciona-uma-blockchain-com-python-4e5a66f09e16"
      ],
      "execution_count": null,
      "outputs": []
    }
  ]
}